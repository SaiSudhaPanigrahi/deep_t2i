{
 "cells": [
  {
   "cell_type": "markdown",
   "metadata": {},
   "source": [
    "# Deep t2i\n",
    "> My Experients of text to image using deep learning"
   ]
  },
  {
   "cell_type": "markdown",
   "metadata": {},
   "source": [
    "1. Generate 256x256 bird image from natural text.\n",
    "2. Generate 64x64 anime faces image from specific tags."
   ]
  },
  {
   "cell_type": "markdown",
   "metadata": {},
   "source": [
    "## Data"
   ]
  },
  {
   "cell_type": "markdown",
   "metadata": {},
   "source": [
    "* Birds:\n",
    "    + [CUB-200](http://www.vision.caltech.edu/visipedia/CUB-200-2011.html)\n",
    "    + [Birds Captions from AttnGAN](https://drive.google.com/open?id=1O_LtUP9sch09QH3s_EBAgLEctBQ5JBSJ)\n",
    "* Anime faces\n",
    "    + [Simple anime faces data](https://drive.google.com/uc?export=download&id=1tpW7ZVNosXsIAWu8-f5EpwtF3ls3pb79)\n",
    "    + This data is from this [course](http://speech.ee.ntu.edu.tw/~tlkagk/courses_MLDS18.html) "
   ]
  },
  {
   "cell_type": "markdown",
   "metadata": {},
   "source": [
    "## Model Architecture"
   ]
  },
  {
   "cell_type": "markdown",
   "metadata": {},
   "source": [
    "DAMSM\n",
    "<img src=\"images/DAMSM_arch.jpg\" width='625' height='476'>\n",
    "<img src=\"images/DAMSM_train.jpg\" width='625' height='476'>"
   ]
  },
  {
   "cell_type": "markdown",
   "metadata": {},
   "source": [
    "GAN\n",
    "<img src=\"images/GAN_arch.jpg\" width='1248' height='476'>\n",
    "<img src=\"images/GAN_train.jpg\" width='625' height='476'>"
   ]
  },
  {
   "cell_type": "markdown",
   "metadata": {},
   "source": [
    "The architecture design is largely inspired by [Attn-GAN](https://github.com/taoxugit/AttnGAN), [MSG-GAN](https://github.com/akanimax/BMSG-GAN), [SA-GAN](https://arxiv.org/abs/1805.08318) and [Pro-GAN](https://arxiv.org/abs/1710.10196)."
   ]
  },
  {
   "cell_type": "markdown",
   "metadata": {},
   "source": [
    "1. Skip connection from MSG-GAN\n",
    "2. Attention and DAMSM from AttnGAN, \n",
    "3. SelfAtten, Spectral norm, Batch Norm from SAGAN\n",
    "4. Architecture and running average of the generator weights from ProGAN but add some residual and attention"
   ]
  },
  {
   "cell_type": "markdown",
   "metadata": {},
   "source": [
    "Please check this notebook to get more details of my model architecture. ( [03a_model.ipynb](nbs/03a_model.ipynb) )\n",
    "\n",
    "Check these notebooks to get details of the loss and training. ( [04a_trainer_DAMSM.ipynb](nbs/04a_trainer_DAMSM.ipynb), [04b_trainer_GAN.ipynb](nbs/04b_trainer_GAN.ipynb) )"
   ]
  },
  {
   "cell_type": "markdown",
   "metadata": {},
   "source": [
    "## Training and Result"
   ]
  },
  {
   "cell_type": "markdown",
   "metadata": {},
   "source": [
    "Please check these notebooks which contain the full training process. \n",
    "([20a_Train_Anime_Heads_DAMSM.ipynb](nbs/20a_Train_Anime_Heads_DAMSM.ipynb), [20b_Train_Anime_Heads_GAN.ipynb](nbs/20b_Train_Anime_Heads_GAN.ipynb), [20c_Train_Birds_DAMSM.ipynb](nbs/20c_Train_Birds_DAMSM.ipynb), [20d_Train_Birds_GAN.ipynb](nbs/20d_Train_Birds_GAN.ipynb) )"
   ]
  },
  {
   "cell_type": "markdown",
   "metadata": {},
   "source": [
    "Notice that for birds dataset, the results are not always good. The followings are which I choosed that looks good.\n",
    "<img src=\"images/anime_heads_result.jpg\" width='300' height='200'>\n",
    "<img src=\"images/birds_result.jpg\">"
   ]
  },
  {
   "cell_type": "markdown",
   "metadata": {},
   "source": [
    "You can check [birds_results](https://drive.google.com/file/d/1ZtjY0zswy37DDxHV0JvLhawhthP9ae1M/view?usp=sharing)  or [anime_heads_results](https://drive.google.com/file/d/1PqbnvfK_aha0Pqge16ETLrr7TqNC-xxM/view?usp=sharing) to get the result images during training process for each epoch."
   ]
  },
  {
   "cell_type": "markdown",
   "metadata": {},
   "source": [
    "## Pretrained Model"
   ]
  },
  {
   "cell_type": "markdown",
   "metadata": {},
   "source": [
    "[Exported Anime Face Model](https://drive.google.com/file/d/1pp696JJCD5ng3C7klhHS5Q7_iTKtEpjs/view?usp=sharing)  \n",
    "[Exported Birds Model](https://drive.google.com/file/d/1phNW_utePcz188jDuqRhMYspPXJZNpMT/view?usp=sharing)  \n",
    "\n",
    "See [21a_example_inference.ipynb](nbs/21a_example_inference.ipynb) for inference example"
   ]
  },
  {
   "cell_type": "markdown",
   "metadata": {},
   "source": [
    "## Flask Server and Simple Demo Site"
   ]
  },
  {
   "cell_type": "markdown",
   "metadata": {},
   "source": [
    "* [Flask Server](server) that deployed on Google Cloud Run\n",
    "* [Simple Demo Site](https://github.com/cwza/deep_t2i_web): Simple web interface for the flask server"
   ]
  },
  {
   "cell_type": "markdown",
   "metadata": {},
   "source": [
    "## How to Develop"
   ]
  },
  {
   "cell_type": "markdown",
   "metadata": {},
   "source": [
    "* Clone this repository\n",
    "* Run `make install` to install deep_t2i\n",
    "* Data:\n",
    "    * Download [CUB-200-2011](http://www.vision.caltech.edu/visipedia-data/CUB-200-2011/CUB_200_2011.tgz) and put it to ./data/full_data/CUB-200-2011.tgz\n",
    "    * Download [Birds Captions from AttnGAN](https://drive.google.com/open?id=1O_LtUP9sch09QH3s_EBAgLEctBQ5JBSJ)  and put it to ./data/full_data/birds.zip\n",
    "    * Download [Simple anime faces data](https://drive.google.com/uc?export=download&id=1tpW7ZVNosXsIAWu8-f5EpwtF3ls3pb79) and put it to ./data/full_data/data.zip\n",
    "    * Run `python3 ./scripts/birds_data.py` and `python3 ./scripts/anime_heads_data.py`\n",
    "* Make some change in nbs/xxx.ipynb. You can add documentation in notebooks!!!\n",
    "* Run `make build` to generate code from jupyter notebooks to ./deep_t2i\n",
    "* Run `make test` to do some unit test\n",
    "* Run `make build-all` to also generate documentation from notebooks\n",
    "* Git push\n"
   ]
  },
  {
   "cell_type": "markdown",
   "metadata": {},
   "source": [
    "## How to Train"
   ]
  },
  {
   "cell_type": "markdown",
   "metadata": {},
   "source": [
    "* Clone this repository\n",
    "* Run `make install` to install deep_t2i\n",
    "* Data:\n",
    "    * Download [CUB-200-2011](http://www.vision.caltech.edu/visipedia-data/CUB-200-2011/CUB_200_2011.tgz) and put it to ./data/full_data/CUB-200-2011.tgz\n",
    "    * Download [Birds Captions from AttnGAN](https://drive.google.com/open?id=1O_LtUP9sch09QH3s_EBAgLEctBQ5JBSJ)  and put it to ./data/full_data/birds.zip\n",
    "    * Download [Simple anime faces data](https://drive.google.com/uc?export=download&id=1tpW7ZVNosXsIAWu8-f5EpwtF3ls3pb79) and put it to ./data/full_data/data.zip\n",
    "    * Run `python3 ./scripts/birds_data.py` and `python3 ./scripts/anime_heads_data.py`\n",
    "* See ./nbs/20c_Train_Birds_DAMSM.ipynb for training DAMSM\n",
    "* See ./nbs/20d_Train_Birds_GAN.ipynb for training and getting exported model\n",
    "* See ./nbs/21a_example_inference.ipynb for inference"
   ]
  },
  {
   "cell_type": "code",
   "execution_count": null,
   "metadata": {},
   "outputs": [],
   "source": []
  }
 ],
 "metadata": {
  "kernelspec": {
   "display_name": "Python 3",
   "language": "python",
   "name": "python3"
  }
 },
 "nbformat": 4,
 "nbformat_minor": 4
}
