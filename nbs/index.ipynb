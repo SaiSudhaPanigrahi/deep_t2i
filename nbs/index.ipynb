{
 "cells": [
  {
   "cell_type": "markdown",
   "metadata": {},
   "source": [
    "# Deep t2i\n",
    "> My Experients of text to image using deep learning"
   ]
  },
  {
   "cell_type": "markdown",
   "metadata": {},
   "source": [
    "Generate 256x256 bird image from natural text."
   ]
  },
  {
   "cell_type": "markdown",
   "metadata": {},
   "source": [
    "## Data"
   ]
  },
  {
   "cell_type": "markdown",
   "metadata": {},
   "source": [
    "Main data:\n",
    "* [CUB-200](http://www.vision.caltech.edu/visipedia/CUB-200-2011.html)\n",
    "* [Birds Captions from AttnGAN](https://drive.google.com/open?id=1O_LtUP9sch09QH3s_EBAgLEctBQ5JBSJ)"
   ]
  },
  {
   "cell_type": "markdown",
   "metadata": {},
   "source": [
    "The files with name \"anime_heads\" are related to another data. Which is a very simple task that try to generate anime faces from just two factors: hair color and eye color. I just use this data to quickly check the functionality of my model. It should work perfectly with this simple task.\n",
    "* [Simple anime faces data](https://drive.google.com/uc?export=download&id=1tpW7ZVNosXsIAWu8-f5EpwtF3ls3pb79)\n",
    "* This data is from this [course](http://speech.ee.ntu.edu.tw/~tlkagk/courses_MLDS18.html) "
   ]
  },
  {
   "cell_type": "markdown",
   "metadata": {},
   "source": [
    "## Model Architecture"
   ]
  },
  {
   "cell_type": "markdown",
   "metadata": {},
   "source": [
    "DAMSM\n",
    "<img src=\"images/DAMSM_arch.jpg\" width='625' height='476'>\n",
    "<img src=\"images/DAMSM_train.jpg\" width='625' height='476'>"
   ]
  },
  {
   "cell_type": "markdown",
   "metadata": {},
   "source": [
    "GAN\n",
    "<img src=\"images/GAN_arch.jpg\" width='1248' height='476'>\n",
    "<img src=\"images/GAN_train.jpg\" width='625' height='476'>"
   ]
  },
  {
   "cell_type": "markdown",
   "metadata": {},
   "source": [
    "The architecture design is largely inspired by Attn-GAN, MSG-GAN, SA-GAN and Pro-GAN."
   ]
  },
  {
   "cell_type": "markdown",
   "metadata": {},
   "source": [
    "1. Skip connection from MSG-GAN\n",
    "2. Attention and DAMSM from AttnGAN, \n",
    "3. SelfAtten, Spectral norm, Batch Norm from SAGAN\n",
    "4. Architecture and ema generator from ProGAN but add some residual and attention"
   ]
  },
  {
   "cell_type": "markdown",
   "metadata": {},
   "source": [
    "Please check this notebook to get more details of my model architecture. ( [03a_model.ipynb](nbs/03a_model.ipynb) )\n",
    "\n",
    "Check these notebooks to get details of the loss and training. ( [04a_trainer_DAMSM.ipynb](nbs/04a_trainer_DAMSM.ipynb), [04b_trainer_GAN.ipynb](nbs/04b_trainer_GAN.ipynb) )"
   ]
  },
  {
   "cell_type": "markdown",
   "metadata": {},
   "source": [
    "## Training and Result"
   ]
  },
  {
   "cell_type": "markdown",
   "metadata": {},
   "source": [
    "Please check these notebooks which contain the full training process. \n",
    "([99a_Train_Anime_Heads_DAMSM.ipynb](nbs/99c_Train_Birds_DAMSM.ipynb), [99b_Train_Anime_Heads_GAN.ipynb](nbs/99d_Train_Birds_GAN.ipynb), [99c_Train_Birds_DAMSM.ipynb](nbs/99c_Train_Birds_DAMSM.ipynb), [99d_Train_Birds_GAN.ipynb](nbs/99d_Train_Birds_GAN.ipynb) )\n"
   ]
  },
  {
   "cell_type": "markdown",
   "metadata": {},
   "source": [
    "Selected sample results:\n",
    "<img src=\"images/anime_heads_result.jpg\" width='300' height='200'>\n",
    "<img src=\"images/birds_result.jpg\">"
   ]
  },
  {
   "cell_type": "markdown",
   "metadata": {},
   "source": [
    "You can check [birds_results](https://drive.google.com/file/d/1ZtjY0zswy37DDxHV0JvLhawhthP9ae1M/view?usp=sharing)  or [anime_heads_results](https://drive.google.com/file/d/1PqbnvfK_aha0Pqge16ETLrr7TqNC-xxM/view?usp=sharing) to get the result images during training process for each epoch."
   ]
  },
  {
   "cell_type": "markdown",
   "metadata": {},
   "source": [
    "## Pretrained Model"
   ]
  },
  {
   "cell_type": "markdown",
   "metadata": {},
   "source": [
    "[Exported Anime Face Model](https://drive.google.com/file/d/1yhvhZqJ3kyBTV7fW7N8Zh5n1LDNZafp9/view?usp=sharing)  \n",
    "[Exported Birds Model](https://drive.google.com/file/d/1zlh-19h55q9DUWSyhCo46H01nX3hVG__/view?usp=sharing)  \n",
    "\n",
    "Use inference_anime_heads module to load these exported models."
   ]
  },
  {
   "cell_type": "markdown",
   "metadata": {},
   "source": [
    "## Flask Server and Simple Demo Site"
   ]
  },
  {
   "cell_type": "markdown",
   "metadata": {},
   "source": [
    "* [Flask Server](server)\n",
    "* [Demo Site](https://github.com/cwza/deep_t2i_web)"
   ]
  },
  {
   "cell_type": "markdown",
   "metadata": {},
   "source": [
    "## How to Develop"
   ]
  },
  {
   "cell_type": "markdown",
   "metadata": {},
   "source": [
    "* Clone this repository\n",
    "* Run `make install` to install deep_t2i\n",
    "* Data:\n",
    "    * Download [CUB-200-2011](http://www.vision.caltech.edu/visipedia-data/CUB-200-2011/CUB_200_2011.tgz) and put it to ./data/full_data/CUB-200-2011.tgz\n",
    "    * Download [Birds Captions from AttnGAN](https://drive.google.com/open?id=1O_LtUP9sch09QH3s_EBAgLEctBQ5JBSJ)  and put it to ./data/full_data/birds.zip\n",
    "    * Download [Simple anime faces data](https://drive.google.com/uc?export=download&id=1tpW7ZVNosXsIAWu8-f5EpwtF3ls3pb79) and put it to ./data/full_data/data.zip\n",
    "    * Run `python3 ./scripts/birds_data.py`\n",
    "* Make some change in nbs/xxx.ipynb. You can add documentation in notebooks!!!\n",
    "* Run `make build` to generate code from jupyter notebooks to ./deep_t2i\n",
    "* Run `make test` to do some unit test\n",
    "* Run `make build-all` to also generate documentation from notebooks\n",
    "* Git push\n"
   ]
  },
  {
   "cell_type": "markdown",
   "metadata": {},
   "source": [
    "## How to Train"
   ]
  },
  {
   "cell_type": "markdown",
   "metadata": {},
   "source": [
    "* Clone this repository\n",
    "* Run `make install` to install deep_t2i\n",
    "* Data:\n",
    "    * Download [CUB-200-2011](http://www.vision.caltech.edu/visipedia-data/CUB-200-2011/CUB_200_2011.tgz) and put it to ./data/full_data/CUB-200-2011.tgz\n",
    "    * Download [Birds Captions from AttnGAN](https://drive.google.com/open?id=1O_LtUP9sch09QH3s_EBAgLEctBQ5JBSJ)  and put it to ./data/full_data/birds.zip\n",
    "    * Download [Simple anime faces data](https://drive.google.com/uc?export=download&id=1tpW7ZVNosXsIAWu8-f5EpwtF3ls3pb79) and put it to ./data/full_data/data.zip\n",
    "    * Run `python3 ./scripts/birds_data.py`\n",
    "* Run ./nbs/99c_Train_Birds_DAMSM.ipynb to train and get DAMSM\n",
    "* Run ./nbs/99d_Train_Birds_GAN.ipynb to train get exported model"
   ]
  },
  {
   "cell_type": "code",
   "execution_count": null,
   "metadata": {},
   "outputs": [],
   "source": []
  }
 ],
 "metadata": {
  "kernelspec": {
   "display_name": "Python 3",
   "language": "python",
   "name": "python3"
  }
 },
 "nbformat": 4,
 "nbformat_minor": 4
}
